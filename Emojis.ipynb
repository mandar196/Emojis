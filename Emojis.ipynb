{
  "nbformat": 4,
  "nbformat_minor": 0,
  "metadata": {
    "colab": {
      "name": "Emojis.ipynb",
      "provenance": [],
      "collapsed_sections": []
    },
    "kernelspec": {
      "name": "python3",
      "display_name": "Python 3"
    }
  },
  "cells": [
    {
      "cell_type": "code",
      "metadata": {
        "id": "A139rfPPhlqQ",
        "colab_type": "code",
        "colab": {
          "base_uri": "https://localhost:8080/",
          "height": 85
        },
        "outputId": "3a868a95-450c-4f4e-a071-2a989a5857a4"
      },
      "source": [
        "!pip install emojis"
      ],
      "execution_count": 1,
      "outputs": [
        {
          "output_type": "stream",
          "text": [
            "Collecting emojis\n",
            "  Downloading https://files.pythonhosted.org/packages/a5/ba/f2b469dd55e5acdd25167cb23b5270a8d8b9ceed038b033af37de1266afb/emojis-0.5.1-py3-none-any.whl\n",
            "Installing collected packages: emojis\n",
            "Successfully installed emojis-0.5.1\n"
          ],
          "name": "stdout"
        }
      ]
    },
    {
      "cell_type": "code",
      "metadata": {
        "id": "Cr3wt5HBhwIo",
        "colab_type": "code",
        "colab": {}
      },
      "source": [
        "import emojis"
      ],
      "execution_count": 2,
      "outputs": []
    },
    {
      "cell_type": "code",
      "metadata": {
        "id": "1pfSbHVxh83n",
        "colab_type": "code",
        "colab": {
          "base_uri": "https://localhost:8080/",
          "height": 34
        },
        "outputId": "02f8e7db-9044-4877-b9c6-8025138ec08c"
      },
      "source": [
        "emojified=emojis.encode(\"Smile please:smile:\")\n",
        "print(emojified)"
      ],
      "execution_count": 4,
      "outputs": [
        {
          "output_type": "stream",
          "text": [
            "Smile please😄\n"
          ],
          "name": "stdout"
        }
      ]
    },
    {
      "cell_type": "code",
      "metadata": {
        "id": "8W_E-VQhiNzi",
        "colab_type": "code",
        "colab": {
          "base_uri": "https://localhost:8080/",
          "height": 34
        },
        "outputId": "c5d30a71-7e88-401a-a6b2-8389635567e5"
      },
      "source": [
        "print(emojis.encode(\"Stay safe and always wear mask :mask:\"))"
      ],
      "execution_count": 5,
      "outputs": [
        {
          "output_type": "stream",
          "text": [
            "Stay safe and always wear mask 😷\n"
          ],
          "name": "stdout"
        }
      ]
    },
    {
      "cell_type": "code",
      "metadata": {
        "id": "xehhsPb3iePu",
        "colab_type": "code",
        "colab": {
          "base_uri": "https://localhost:8080/",
          "height": 34
        },
        "outputId": "83c7fcc7-bc0f-4a34-e507-948201311ad3"
      },
      "source": [
        "print(emojis.encode(\"All the best :thumbsup:\"))"
      ],
      "execution_count": 7,
      "outputs": [
        {
          "output_type": "stream",
          "text": [
            "All the best 👍\n"
          ],
          "name": "stdout"
        }
      ]
    },
    {
      "cell_type": "code",
      "metadata": {
        "id": "dS9_5bBHi7iB",
        "colab_type": "code",
        "colab": {}
      },
      "source": [
        ""
      ],
      "execution_count": null,
      "outputs": []
    }
  ]
}